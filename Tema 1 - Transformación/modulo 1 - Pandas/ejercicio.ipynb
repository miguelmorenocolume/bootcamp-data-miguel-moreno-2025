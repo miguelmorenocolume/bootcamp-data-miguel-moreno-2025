{
 "cells": [
  {
   "cell_type": "markdown",
   "id": "a4f2629c",
   "metadata": {},
   "source": [
    "# 🐼 Modulo 1 - Introduccion a Pandas\n",
    "\n",
    "\n",
    "- Deberás utilizar únicamente `pandas`y librerías estándar de Python para \n",
    "\n",
    "- resolver los distintos objetivos, este sera un proceso guiado para ayudarte a familiarizarte con la librería!\n",
    "\n",
    "- Responde a TODAS las preguntas dentro de las celdas de ejecución \n"
   ]
  },
  {
   "cell_type": "markdown",
   "id": "85fd005e",
   "metadata": {},
   "source": [
    "\n",
    "## 💡 Contexto:\n",
    "### El hospital \"Stemdata\" ha digitalizado su sistema de gestión de medicamentos. Te han entregado un archivo CSV\n",
    "### con registros de la administración de medicamentos a pacientes, con las siguientes columnas:\n",
    "\n",
    "- paciente_id: ID único del paciente\n",
    "- nombre_medicamento: nombre del fármaco administrado\n",
    "- dosis_mg: dosis suministrada (en miligramos)\n",
    "- frecuencia_dia: veces al día que se administra el medicamento\n",
    "- fecha_inicio: fecha de inicio del tratamiento\n",
    "- fecha_fin: fecha de finalización del tratamiento (puede estar vacía si sigue activo)\n",
    "- unidad: hospital, residencia o ambulatorio\n",
    "\n"
   ]
  },
  {
   "cell_type": "markdown",
   "id": "e239a355",
   "metadata": {},
   "source": [
    "## 📦 Ejercicio 1: Carga de datos\n",
    "### Cargar los datos desde un archivo CSV"
   ]
  },
  {
   "cell_type": "code",
   "execution_count": 2,
   "id": "dfe14751",
   "metadata": {},
   "outputs": [
    {
     "name": "stdout",
     "output_type": "stream",
     "text": [
      "Datos cargados:\n",
      "    paciente_id nombre_medicamento  dosis_mg  frecuencia_dia fecha_inicio  \\\n",
      "0         1102         Loratadina     250.0               2   2023-12-22   \n",
      "1         1435          Omeprazol     750.0               2   2023-11-29   \n",
      "2         1860        Amoxicilina     750.0               3   2023-09-16   \n",
      "3         1270        Amoxicilina     250.0               1   2023-06-10   \n",
      "4         1106        Paracetamol    1000.0               1   2023-06-27   \n",
      "\n",
      "       unidad   fecha_fin  \n",
      "0    hospital  2024-02-11  \n",
      "1  residencia  2023-12-12  \n",
      "2  residencia  2023-12-28  \n",
      "3    hospital  2023-07-04  \n",
      "4  residencia  2023-10-31  \n"
     ]
    }
   ],
   "source": [
    "import pandas as pd\n",
    "\n",
    "df = pd.read_csv('modulo_1.csv')\n",
    "print(\"Datos cargados:\\n\", df.head())"
   ]
  },
  {
   "cell_type": "markdown",
   "id": "fab15ec4",
   "metadata": {},
   "source": [
    "## 🧼 Ejercicio 2: Limpieza y validación\n",
    "- Asegúrate de que no haya duplicados.\n",
    "- Las fechas deben estar en formato datetime.\n",
    "- Si fecha_fin está vacía, reemplázala por la fecha actual para calcular duración.\n",
    "- Revisa si hay dosis nulas o negativas."
   ]
  },
  {
   "cell_type": "code",
   "execution_count": 12,
   "id": "76e9c4e5",
   "metadata": {},
   "outputs": [
    {
     "name": "stdout",
     "output_type": "stream",
     "text": [
      "Datos cargados:\n",
      "    paciente_id nombre_medicamento  dosis_mg  frecuencia_dia fecha_inicio  \\\n",
      "0         1102         Loratadina     250.0               2   2023-12-22   \n",
      "1         1435          Omeprazol     750.0               2   2023-11-29   \n",
      "2         1860        Amoxicilina     750.0               3   2023-09-16   \n",
      "3         1270        Amoxicilina     250.0               1   2023-06-10   \n",
      "4         1106        Paracetamol    1000.0               1   2023-06-27   \n",
      "\n",
      "       unidad  fecha_fin  \n",
      "0    hospital 2024-02-11  \n",
      "1  residencia 2023-12-12  \n",
      "2  residencia 2023-12-28  \n",
      "3    hospital 2023-07-04  \n",
      "4  residencia 2023-10-31  \n"
     ]
    }
   ],
   "source": [
    "from datetime import datetime\n",
    "\n",
    "# Eliminar duplicados\n",
    "df.drop_duplicates(inplace=True)\n",
    "\n",
    "# Convertir columnas de fecha a datetime\n",
    "df['fecha_inicio'] = pd.to_datetime(df['fecha_inicio'])\n",
    "df['fecha_fin'] = pd.to_datetime(df['fecha_fin'])\n",
    "\n",
    "# Rellenar fecha_fin vacía con la fecha y hora actual\n",
    "df['fecha_fin'] = df['fecha_fin'].fillna(pd.Timestamp(datetime.now()))\n",
    "\n",
    "# Eliminar filas con dosis negativas o nulas\n",
    "df = df[df['dosis_mg'] > 0]\n",
    "\n",
    "print(\"Datos cargados:\\n\", df.head())\n"
   ]
  },
  {
   "cell_type": "markdown",
   "id": "af7198e7",
   "metadata": {},
   "source": [
    "### 📊 Ejercicio 3: Análisis general\n",
    "- ¿Cuántos tratamientos únicos hay?\n",
    "- ¿Cuántos pacientes únicos están registrados?\n",
    "- ¿Cuáles son los 5 medicamentos más administrados?\n",
    "- ¿Cuáles son las unidades con más pacientes tratados?"
   ]
  },
  {
   "cell_type": "code",
   "execution_count": 11,
   "id": "dd007236",
   "metadata": {},
   "outputs": [
    {
     "name": "stdout",
     "output_type": "stream",
     "text": [
      "Tratamientos únicos: 278\n",
      "Pacientes únicos: 239\n",
      "Top 5 medicamentos más administrados:\n",
      " nombre_medicamento\n",
      "Omeprazol      54\n",
      "Paracetamol    53\n",
      "Loratadina     49\n",
      "Ibuprofeno     47\n",
      "Amoxicilina    45\n",
      "Name: count, dtype: int64\n",
      "Pacientes por unidad:\n",
      " unidad\n",
      "hospital       97\n",
      "residencia     89\n",
      "ambulatorio    82\n",
      "Name: paciente_id, dtype: int64\n"
     ]
    }
   ],
   "source": [
    "\n",
    "# Tratamientos únicos (paciente + medicamento)\n",
    "tratamientos_unicos = df[['paciente_id', 'nombre_medicamento']].drop_duplicates().shape[0]\n",
    "print(\"Tratamientos únicos:\", tratamientos_unicos)\n",
    "\n",
    "# Pacientes únicos\n",
    "pacientes_unicos = df['paciente_id'].nunique()\n",
    "print(\"Pacientes únicos:\", pacientes_unicos)\n",
    "\n",
    "# Medicamentos más administrados\n",
    "medicamentos_top5 = df['nombre_medicamento'].value_counts().head(5)\n",
    "print(\"Top 5 medicamentos más administrados:\\n\", medicamentos_top5)\n",
    "\n",
    "# Unidades con más pacientes tratados\n",
    "pacientes_por_unidad = df.groupby('unidad')['paciente_id'].nunique().sort_values(ascending=False)\n",
    "print(\"Pacientes por unidad:\\n\", pacientes_por_unidad)"
   ]
  },
  {
   "cell_type": "markdown",
   "id": "91d58cf6",
   "metadata": {},
   "source": [
    "### 🧠 Ejercicio 4: Cálculo de métricas clínicas\n",
    "- Crea una columna \"duracion_dias\" con la diferencia entre fecha_fin y fecha_inicio.\n",
    "- Calcula la \"dosis_total_mg\" por tratamiento (dosis x frecuencia_dia x duración_dias).\n",
    "- ¿Cuál es la dosis total promedio por medicamento?\n",
    "- ¿Qué paciente ha recibido la mayor dosis total acumulada?"
   ]
  },
  {
   "cell_type": "code",
   "execution_count": 13,
   "id": "73300604",
   "metadata": {},
   "outputs": [
    {
     "name": "stdout",
     "output_type": "stream",
     "text": [
      "Dosis promedio por medicamento:\n",
      " nombre_medicamento\n",
      "Amoxicilina    311955.555556\n",
      "Ibuprofeno     146175.531915\n",
      "Loratadina     328418.367347\n",
      "Metformina     240273.809524\n",
      "Omeprazol      252861.111111\n",
      "Paracetamol    189316.037736\n",
      "Name: dosis_total_mg, dtype: float64\n",
      "Paciente con mayor dosis acumulada: 1645\n"
     ]
    }
   ],
   "source": [
    "# Calcular duración del tratamiento en días\n",
    "df['duracion_dias'] = (df['fecha_fin'] - df['fecha_inicio']).dt.days\n",
    "\n",
    "# Calcular dosis total por tratamiento\n",
    "df['dosis_total_mg'] = df['dosis_mg'] * df['frecuencia_dia'] * df['duracion_dias']\n",
    "\n",
    "# Dosis promedio por medicamento\n",
    "dosis_promedio = df.groupby('nombre_medicamento')['dosis_total_mg'].mean()\n",
    "print(\"Dosis promedio por medicamento:\\n\", dosis_promedio)\n",
    "\n",
    "# Paciente con mayor dosis acumulada\n",
    "paciente_max_dosis = df.groupby('paciente_id')['dosis_total_mg'].sum().idxmax()\n",
    "print(\"Paciente con mayor dosis acumulada:\", paciente_max_dosis)"
   ]
  },
  {
   "cell_type": "markdown",
   "id": "3cb0e844",
   "metadata": {},
   "source": [
    "### 🛠️ Paso 5: Resolución de un problema\n",
    "### La administración necesita saber:\n",
    "- ¿Qué unidad tiene el mayor consumo total de medicamentos (en mg)?\n",
    "- ¿Qué medicamento tiene mayor variabilidad en duración de tratamientos?\n",
    "- ¿Qué tratamientos han durado más de 90 días?"
   ]
  },
  {
   "cell_type": "code",
   "execution_count": 14,
   "id": "3564cf6b",
   "metadata": {},
   "outputs": [
    {
     "name": "stdout",
     "output_type": "stream",
     "text": [
      "Unidad con mayor consumo total: hospital\n",
      "Medicamento con mayor variabilidad en duración: Amoxicilina\n",
      "Tratamientos de más de 90 días:\n",
      "     paciente_id nombre_medicamento  duracion_dias\n",
      "2           1860        Amoxicilina            103\n",
      "4           1106        Paracetamol            126\n",
      "6           1700         Metformina            127\n",
      "7           1020          Omeprazol            167\n",
      "10          1466         Loratadina            149\n",
      "..           ...                ...            ...\n",
      "291         1224          Omeprazol            138\n",
      "295         1129         Ibuprofeno            131\n",
      "297         1683          Omeprazol            780\n",
      "298         1729        Paracetamol            879\n",
      "299         1671        Paracetamol            110\n",
      "\n",
      "[167 rows x 3 columns]\n"
     ]
    }
   ],
   "source": [
    "# ¿Qué unidad tiene el mayor consumo total de medicamentos (en mg)?\n",
    "consumo_por_unidad = df.groupby('unidad')['dosis_total_mg'].sum()\n",
    "unidad_max_consumo = consumo_por_unidad.idxmax()\n",
    "print(\"Unidad con mayor consumo total:\", unidad_max_consumo)\n",
    "\n",
    "# ¿Qué medicamento tiene mayor variabilidad en duración de tratamientos?\n",
    "variabilidad_duracion = df.groupby('nombre_medicamento')['duracion_dias'].std()\n",
    "medicamento_mayor_var = variabilidad_duracion.idxmax()\n",
    "print(\"Medicamento con mayor variabilidad en duración:\", medicamento_mayor_var)\n",
    "\n",
    "# ¿Qué tratamientos han durado más de 90 días?\n",
    "tratamientos_largos = df[df['duracion_dias'] > 90]\n",
    "print(\"Tratamientos de más de 90 días:\")\n",
    "print(tratamientos_largos[['paciente_id', 'nombre_medicamento', 'duracion_dias']])"
   ]
  }
 ],
 "metadata": {
  "kernelspec": {
   "display_name": "Python 3",
   "language": "python",
   "name": "python3"
  },
  "language_info": {
   "codemirror_mode": {
    "name": "ipython",
    "version": 3
   },
   "file_extension": ".py",
   "mimetype": "text/x-python",
   "name": "python",
   "nbconvert_exporter": "python",
   "pygments_lexer": "ipython3",
   "version": "3.12.2"
  }
 },
 "nbformat": 4,
 "nbformat_minor": 5
}
